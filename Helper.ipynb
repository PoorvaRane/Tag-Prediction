{
 "cells": [
  {
   "cell_type": "code",
   "execution_count": 2,
   "metadata": {
    "collapsed": true
   },
   "outputs": [],
   "source": [
    "import sys, string, random, numpy\n",
    "from nltk.corpus import reuters\n",
    "from llda import LLDA\n",
    "from optparse import OptionParser"
   ]
  },
  {
   "cell_type": "code",
   "execution_count": 3,
   "metadata": {
    "collapsed": false
   },
   "outputs": [
    {
     "data": {
      "text/plain": [
       "90"
      ]
     },
     "execution_count": 3,
     "metadata": {},
     "output_type": "execute_result"
    }
   ],
   "source": [
    "fid = reuters.categories()\n",
    "len(fid)"
   ]
  },
  {
   "cell_type": "code",
   "execution_count": 10,
   "metadata": {
    "collapsed": false
   },
   "outputs": [
    {
     "name": "stdout",
     "output_type": "stream",
     "text": [
      "[u'AVERY', u'&', u'lt', u';', u'AVY', u'>', u'1ST', ...]\n",
      "[u'FED', u'SETS', u'TWO', u'BILLION', u'DLR', ...]\n",
      "[u'SENATE', u'SEEKS', u'U', u'.', u'S', u'.', u'PROBE', ...]\n",
      "[u'U', u'.', u'K', u'.', u'MONEY', u'MARKET', ...]\n",
      "[u'KNIGHT', u'-', u'RIDDER', u'INC', u'&', u'lt', u';', ...]\n",
      "[u'TECHNITROL', u'INC', u'&', u'lt', u';', u'TNL', ...]\n",
      "[u'NATIONWIDE', u'CELLULAR', u'SERVICE', u'INC', u'&', ...]\n",
      "[u'&', u'lt', u';', u'A', u'.', u'H', u'.', u'A', u'.', ...]\n"
     ]
    }
   ],
   "source": [
    "for f in fid[10780:]:\n",
    "    print reuters.words(f)"
   ]
  },
  {
   "cell_type": "code",
   "execution_count": 4,
   "metadata": {
    "collapsed": false
   },
   "outputs": [
    {
     "data": {
      "text/plain": [
       "True"
      ]
     },
     "execution_count": 4,
     "metadata": {},
     "output_type": "execute_result"
    }
   ],
   "source": [
    "a = [\"ac\", \"daa\"]\n",
    "\"daa\" in a"
   ]
  },
  {
   "cell_type": "code",
   "execution_count": null,
   "metadata": {
    "collapsed": true
   },
   "outputs": [],
   "source": []
  }
 ],
 "metadata": {
  "kernelspec": {
   "display_name": "Python 2",
   "language": "python",
   "name": "python2"
  },
  "language_info": {
   "codemirror_mode": {
    "name": "ipython",
    "version": 2
   },
   "file_extension": ".py",
   "mimetype": "text/x-python",
   "name": "python",
   "nbconvert_exporter": "python",
   "pygments_lexer": "ipython2",
   "version": "2.7.11"
  }
 },
 "nbformat": 4,
 "nbformat_minor": 0
}
